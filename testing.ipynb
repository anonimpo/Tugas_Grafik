{
 "cells": [
  {
   "cell_type": "code",
   "execution_count": 1,
   "metadata": {},
   "outputs": [],
   "source": [
    "import numpy as np\n",
    "import matplotlib.pyplot as plt\n",
    "from Potential import Potential\n",
    "from Metode.GreenFunction import GreenFunction\n",
    "from Metode.AnalyticalMethod import AnalyticalMethod_V2\n",
    "from Metode.MatrixTransfer import TransferMatrixMethod_V2\n",
    "N  = 100\n",
    "a = 6\n",
    "m = 1\n",
    "h = 1\n",
    "E = 8\n",
    "V_max = 10\n",
    "\n",
    "get = Potential(N, a,E, m, h)\n",
    "x = get.x\n",
    "potential_barrier = get.PotentialBarrier(get,V_max,0)\n",
    "step_potential = get.StepPotential(get,V_max,0)\n",
    "morse_feshbach_potential_well = get.MorseFeshbach(get,V_max,1,0,0.2)"
   ]
  },
  {
   "cell_type": "code",
   "execution_count": 9,
   "metadata": {},
   "outputs": [
    {
     "data": {
      "text/plain": [
       "array([[ 1. , -0.5,  0. , ...,  0. ,  0. ,  0. ],\n",
       "       [-0.5,  1. , -0.5, ...,  0. ,  0. ,  0. ],\n",
       "       [ 0. , -0.5,  1. , ...,  0. ,  0. ,  0. ],\n",
       "       ...,\n",
       "       [ 0. ,  0. ,  0. , ...,  1. , -0.5,  0. ],\n",
       "       [ 0. ,  0. ,  0. , ..., -0.5,  1. , -0.5],\n",
       "       [ 0. ,  0. ,  0. , ...,  0. , -0.5,  1. ]])"
      ]
     },
     "execution_count": 9,
     "metadata": {},
     "output_type": "execute_result"
    }
   ],
   "source": [
    "t = h**2/(2*m)*np.ones(N+1)\n",
    "V1 = potential_barrier.get_potential()\n",
    "from scipy.sparse import diags\n",
    "T = diags([-t[:-1], V1+2*t, -t[:-1]], [-1, 0, 1], shape=(N,N)).toarray()\n",
    "T"
   ]
  },
  {
   "cell_type": "code",
   "execution_count": 10,
   "metadata": {},
   "outputs": [],
   "source": [
    "from scipy.sparse import diags\n",
    "from scipy.sparse.linalg import inv as inverse\n",
    "\n",
    "class GreenFunction_2:\n",
    "    def __init__(self, m, h, E):\n",
    "        __name__ = \"Green's Function Method\"\n",
    "        self.m = m\n",
    "        self.h = h\n",
    "        self.E = E\n",
    "        self.t = self.h**2/(2*self.m)\n",
    "    \n",
    "    def Hamiltonian(self, V):\n",
    "        N= V.parent.N\n",
    "        V = V.get_potential()\n",
    "        t = self.t*np.ones(N+1)\n",
    "        H = diags([-t[:-1], V+2*t, -t[:-1]], [-1, 0, 1], shape=(N,N))\n",
    "        return H\n",
    "    \n",
    "    def GreenFunction(self, V):\n",
    "        N = V.parent.N\n",
    "        E = self.E\n",
    "        H = self.Hamiltonian(V)\n",
    "        G = inverse(E*np.eye(N) - H)\n",
    "        return G"
   ]
  },
  {
   "cell_type": "code",
   "execution_count": 12,
   "metadata": {},
   "outputs": [
    {
     "ename": "TypeError",
     "evalue": "Input must be a sparse matrix",
     "output_type": "error",
     "traceback": [
      "\u001b[0;31m---------------------------------------------------------------------------\u001b[0m",
      "\u001b[0;31mTypeError\u001b[0m                                 Traceback (most recent call last)",
      "Cell \u001b[0;32mIn[12], line 3\u001b[0m\n\u001b[1;32m      1\u001b[0m Green2 \u001b[38;5;241m=\u001b[39m GreenFunction_2(m\u001b[38;5;241m=\u001b[39m\u001b[38;5;241m1\u001b[39m,h\u001b[38;5;241m=\u001b[39m\u001b[38;5;241m1\u001b[39m,E\u001b[38;5;241m=\u001b[39mE)\n\u001b[1;32m      2\u001b[0m H \u001b[38;5;241m=\u001b[39m Green2\u001b[38;5;241m.\u001b[39mHamiltonian(potential_barrier)\u001b[38;5;241m.\u001b[39mtoarray()\n\u001b[0;32m----> 3\u001b[0m G \u001b[38;5;241m=\u001b[39m \u001b[43mGreen2\u001b[49m\u001b[38;5;241;43m.\u001b[39;49m\u001b[43mGreenFunction\u001b[49m\u001b[43m(\u001b[49m\u001b[43mpotential_barrier\u001b[49m\u001b[43m)\u001b[49m\n",
      "Cell \u001b[0;32mIn[10], line 23\u001b[0m, in \u001b[0;36mGreenFunction_2.GreenFunction\u001b[0;34m(self, V)\u001b[0m\n\u001b[1;32m     21\u001b[0m E \u001b[38;5;241m=\u001b[39m \u001b[38;5;28mself\u001b[39m\u001b[38;5;241m.\u001b[39mE\n\u001b[1;32m     22\u001b[0m H \u001b[38;5;241m=\u001b[39m \u001b[38;5;28mself\u001b[39m\u001b[38;5;241m.\u001b[39mHamiltonian(V)\n\u001b[0;32m---> 23\u001b[0m G \u001b[38;5;241m=\u001b[39m \u001b[43minverse\u001b[49m\u001b[43m(\u001b[49m\u001b[43mE\u001b[49m\u001b[38;5;241;43m*\u001b[39;49m\u001b[43mnp\u001b[49m\u001b[38;5;241;43m.\u001b[39;49m\u001b[43meye\u001b[49m\u001b[43m(\u001b[49m\u001b[43mN\u001b[49m\u001b[43m)\u001b[49m\u001b[43m \u001b[49m\u001b[38;5;241;43m-\u001b[39;49m\u001b[43m \u001b[49m\u001b[43mH\u001b[49m\u001b[43m)\u001b[49m\n\u001b[1;32m     24\u001b[0m \u001b[38;5;28;01mreturn\u001b[39;00m G\n",
      "File \u001b[0;32m~/.local/lib/python3.12/site-packages/scipy/sparse/linalg/_matfuncs.py:72\u001b[0m, in \u001b[0;36minv\u001b[0;34m(A)\u001b[0m\n\u001b[1;32m     70\u001b[0m \u001b[38;5;66;03m# Check input\u001b[39;00m\n\u001b[1;32m     71\u001b[0m \u001b[38;5;28;01mif\u001b[39;00m \u001b[38;5;129;01mnot\u001b[39;00m (scipy\u001b[38;5;241m.\u001b[39msparse\u001b[38;5;241m.\u001b[39missparse(A) \u001b[38;5;129;01mor\u001b[39;00m is_pydata_spmatrix(A)):\n\u001b[0;32m---> 72\u001b[0m     \u001b[38;5;28;01mraise\u001b[39;00m \u001b[38;5;167;01mTypeError\u001b[39;00m(\u001b[38;5;124m'\u001b[39m\u001b[38;5;124mInput must be a sparse matrix\u001b[39m\u001b[38;5;124m'\u001b[39m)\n\u001b[1;32m     74\u001b[0m \u001b[38;5;66;03m# Use sparse direct solver to solve \"AX = I\" accurately\u001b[39;00m\n\u001b[1;32m     75\u001b[0m I \u001b[38;5;241m=\u001b[39m _ident_like(A)\n",
      "\u001b[0;31mTypeError\u001b[0m: Input must be a sparse matrix"
     ]
    }
   ],
   "source": [
    "Green2 = GreenFunction_2(m=1,h=1,E=E)\n",
    "H = Green2.Hamiltonian(potential_barrier).toarray()\n",
    "G = Green2.GreenFunction(potential_barrier)"
   ]
  }
 ],
 "metadata": {
  "kernelspec": {
   "display_name": "Python 3",
   "language": "python",
   "name": "python3"
  },
  "language_info": {
   "codemirror_mode": {
    "name": "ipython",
    "version": 3
   },
   "file_extension": ".py",
   "mimetype": "text/x-python",
   "name": "python",
   "nbconvert_exporter": "python",
   "pygments_lexer": "ipython3",
   "version": "3.12.1"
  }
 },
 "nbformat": 4,
 "nbformat_minor": 2
}
