{
 "cells": [
  {
   "cell_type": "code",
   "execution_count": 1,
   "metadata": {},
   "outputs": [],
   "source": [
    "import numpy as np\n",
    "import matplotlib.pyplot as plt\n",
    "from Potential import Potential\n",
    "from Metode.GreenFunction import GreenFunction_V2\n",
    "from Metode.AnalyticalMethod import AnalyticalMethod_V2\n",
    "from Metode.MatrixTransfer import TransferMatrixMethod_V2\n",
    "N  = 100\n",
    "a = 6\n",
    "m = 1\n",
    "h = 1\n",
    "E = 8\n",
    "V_max = 10\n",
    "\n",
    "get = Potential(N, a,E, m, h)\n",
    "x = get.x\n",
    "potential_barrier = get.PotentialBarrier(get,V_max,0)\n",
    "step_potential = get.StepPotential(get,V_max,0)\n",
    "morse_feshbach_potential_well = get.MorseFeshbach(get,V_max,1,0,0.2)"
   ]
  },
  {
   "cell_type": "code",
   "execution_count": 2,
   "metadata": {},
   "outputs": [],
   "source": [
    "t = h**2/(2*m)*np.ones(N+1)\n",
    "V1 = potential_barrier.get_potential()\n",
    "from scipy.sparse import diags\n",
    "T = diags([-t[:-1], V1+2*t, -t[:-1]], [-1, 0, 1], shape=(N,N)).toarray()"
   ]
  },
  {
   "cell_type": "code",
   "execution_count": 3,
   "metadata": {},
   "outputs": [],
   "source": [
    "from numpy import ones,imag,pi, matrix\n",
    "from scipy.sparse import diags, eye\n",
    "from scipy.sparse.linalg import inv as inverse\n",
    "\n",
    "\n",
    "class GreenFunction_V3:\n",
    "    def __init__(self, m, h, E):\n",
    "        __name__ = \"Metode Green's Function \"\n",
    "        self.m = m\n",
    "        self.h = h\n",
    "        self.E = E\n",
    "        self.t = self.h**2/(2*self.m)\n",
    "    \n",
    "    def Hamiltonian(self, V):\n",
    "        #N= V.parent.N\n",
    "        dx= V.parent.x[1]-V.parent.x[0]\n",
    "        self.t = self.t/dx\n",
    "        N=3\n",
    "        V = V.get_potential()\n",
    "        V = np.array([V[0],V[50],V[-1]])\n",
    "        t = self.t*ones(N+1)\n",
    "        #H = diags([-t[:-1], V+2*t, -t[:-1]], [-1, 0, 1], shape=(N,N))\n",
    "        H = diags([-t[:-1], V+2*t[:-1], -t[:-1]], [-1, 0, 1], shape=(N,N))\n",
    "        return H\n",
    "    \n",
    "    def GreenFunction_for_finding_Self_Energy(self, V, Green_surfaceL=0,Green_surfaceR=0):\n",
    "        self.Green_surfaceL = Green_surfaceL\n",
    "        self.Green_surfaceR = Green_surfaceR\n",
    "        #N = V.parent.N\n",
    "        dx= V.parent.x[1]-V.parent.x[0]\n",
    "        self.t = self.t/dx\n",
    "        N=3\n",
    "        H = self.Hamiltonian(V)\n",
    "        Sigma=eye(N) * 0\n",
    "        Sigma=Sigma.tocsc()\n",
    "        Sigma[0,0],Sigma[-1,-1] = self.t*Green_surfaceL*self.t, self.t*Green_surfaceR*self.t\n",
    "        G = inverse(self.E*eye(N) - H -Sigma)                     \n",
    "        return G\n",
    "    \n",
    "    def GreenFunction_for_finding_center_green_function(self, V):\n",
    "        GreenFunction_0 = self.GreenFunction_for_finding_Self_Energy(V,0,0)\n",
    "        gL,gR = GreenFunction_0[0,0],GreenFunction_0[-1,-1]\n",
    "        Gc = self.GreenFunction_for_finding_Self_Energy(V,gL,gR)\n",
    "        Gc = Gc[Gc.shape[0] // 2, Gc.shape[1] // 2]\n",
    "        return Gc,gL,gR\n",
    "    \n",
    "    def DensityOfState_in_center(self, V):\n",
    "        G = self.GreenFunction_for_finding_center_green_function(V)\n",
    "        DOS = -1/pi*imag(G)\n",
    "        return DOS\n",
    "    \n",
    "    #full green's function, masih belum yakin benar ??\n",
    "    def GreenFunction(self, V):\n",
    "        Gc,gL,gR = self.GreenFunction_for_finding_center_green_function(V)\n",
    "        GL,GCL,GRL = gL*(1+self.t*Gc*self.t*gL), gL*self.t*Gc, gL*self.t*Gc*self.t*gR\n",
    "        GLC,GC,GRC = Gc*self.t*gL, Gc, Gc*self.t*gR\n",
    "        GLR,GCR,GR = gR*self.t*Gc*self.t*gL, gR*self.t*Gc, gR*(1+self.t*Gc*self.t*gR)\n",
    "        G  = matrix([[ GL,GCL,GRL ],\n",
    "                     [ GLC,GC,GRC ],\n",
    "                     [ GLR,GCR,GR ]])\n",
    "        return G\n",
    "    \n",
    "    def psi():\n",
    "        pass"
   ]
  },
  {
   "cell_type": "code",
   "execution_count": null,
   "metadata": {},
   "outputs": [],
   "source": []
  },
  {
   "cell_type": "code",
   "execution_count": null,
   "metadata": {},
   "outputs": [],
   "source": []
  },
  {
   "cell_type": "code",
   "execution_count": 4,
   "metadata": {},
   "outputs": [
    {
     "name": "stderr",
     "output_type": "stream",
     "text": [
      "/home/codespace/.local/lib/python3.12/site-packages/scipy/sparse/_index.py:108: SparseEfficiencyWarning: Changing the sparsity structure of a csc_matrix is expensive. lil and dok are more efficient.\n",
      "  self._set_intXint(row, col, x.flat[0])\n",
      "/home/codespace/.local/lib/python3.12/site-packages/scipy/sparse/linalg/_dsolve/linsolve.py:603: SparseEfficiencyWarning: splu converted its input to CSC format\n",
      "  return splu(A).solve\n",
      "/home/codespace/.local/lib/python3.12/site-packages/scipy/sparse/linalg/_matfuncs.py:76: SparseEfficiencyWarning: spsolve is more efficient when sparse b is in the CSC matrix format\n",
      "  Ainv = spsolve(A, I)\n"
     ]
    }
   ],
   "source": [
    "\n",
    "Green2 = GreenFunction_V3(m=1,h=1,E=E)\n",
    "H = Green2.Hamiltonian(potential_barrier).toarray()\n",
    "G_0 = Green2.GreenFunction_for_finding_Self_Energy(potential_barrier)\n",
    "G_C = Green2.GreenFunction_for_finding_center_green_function(potential_barrier)\n",
    "DOS = Green2.DensityOfState_in_center(potential_barrier)\n",
    "\n",
    "G_full = Green2.GreenFunction(potential_barrier)"
   ]
  },
  {
   "cell_type": "code",
   "execution_count": 5,
   "metadata": {},
   "outputs": [],
   "source": [
    "from Potential import Potential, intial_wavefunction\n",
    "\n",
    "\n",
    "Psi_0 = intial_wavefunction(N,a,E).gasussian_wavepacket(potential_barrier,-2,.5)"
   ]
  },
  {
   "cell_type": "code",
   "execution_count": null,
   "metadata": {},
   "outputs": [],
   "source": [
    "import numpy as np\n",
    "import matplotlib.pyplot as plt\n",
    "\n",
    "class AnalyticalMethod_3:\n",
    "    def __init__(self, V):\n",
    "        m = V.parent.m\n",
    "        h = V.parent.h\n",
    "        k = V.get_wavevector()\n",
    "        dx= V.parent.x[1]-V.parent.x[0]\n",
    "        self.t = h**2/(2*m)\n",
    "        self.t = self.t/self.dx\n",
    "        N=V.parent.N \n",
    "\n",
    "    def Hamiltonian(self, V):\n",
    "        V = V.get_potential()\n",
    "        t = t*ones(N+1)\n",
    "        H = diags([-t[:-1], V+2*t, -t[:-1]], [-1, 0, 1], shape=(N,N))\n",
    "        return H\n"
   ]
  },
  {
   "cell_type": "code",
   "execution_count": null,
   "metadata": {},
   "outputs": [
    {
     "ename": "TypeError",
     "evalue": "cannot unpack non-iterable Potential object",
     "output_type": "error",
     "traceback": [
      "\u001b[0;31m---------------------------------------------------------------------------\u001b[0m",
      "\u001b[0;31mTypeError\u001b[0m                                 Traceback (most recent call last)",
      "Cell \u001b[0;32mIn[21], line 1\u001b[0m\n\u001b[0;32m----> 1\u001b[0m N,a,E,m,h,x\u001b[38;5;241m=\u001b[39mpotential_barrier\u001b[38;5;241m.\u001b[39mparent\n",
      "\u001b[0;31mTypeError\u001b[0m: cannot unpack non-iterable Potential object"
     ]
    }
   ],
   "source": [
    "N,a,E,m,h,x=potential_barrier.parent.N"
   ]
  }
 ],
 "metadata": {
  "kernelspec": {
   "display_name": "Python 3",
   "language": "python",
   "name": "python3"
  },
  "language_info": {
   "codemirror_mode": {
    "name": "ipython",
    "version": 3
   },
   "file_extension": ".py",
   "mimetype": "text/x-python",
   "name": "python",
   "nbconvert_exporter": "python",
   "pygments_lexer": "ipython3",
   "version": "3.12.1"
  }
 },
 "nbformat": 4,
 "nbformat_minor": 2
}
